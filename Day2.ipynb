{
 "cells": [
  {
   "cell_type": "markdown",
   "id": "cf89d47a-dc63-43c4-af1c-66e6102552fd",
   "metadata": {},
   "source": [
    "# Find Indexing from Series "
   ]
  },
  {
   "cell_type": "code",
   "execution_count": 5,
   "id": "f6619844-8916-42d2-bae8-9bebf692cba0",
   "metadata": {},
   "outputs": [
    {
     "name": "stdout",
     "output_type": "stream",
     "text": [
      "0     1\n",
      "1    22\n",
      "2     3\n",
      "dtype: int64\n",
      "22\n",
      "1\n"
     ]
    }
   ],
   "source": [
    "import pandas as pd\n",
    "list = [1,22,3]\n",
    "val = pd.Series(list)\n",
    "print(val)\n",
    "print(val[1])\n",
    "print(val[0])"
   ]
  },
  {
   "cell_type": "markdown",
   "id": "5103a107-d983-4671-86b8-cbd091881322",
   "metadata": {},
   "source": [
    "# Create labels in Series "
   ]
  },
  {
   "cell_type": "code",
   "execution_count": 7,
   "id": "bb5e50cd-a7c3-4409-b181-452f4e7486dd",
   "metadata": {},
   "outputs": [
    {
     "name": "stdout",
     "output_type": "stream",
     "text": [
      "x    1\n",
      "y    7\n",
      "z    2\n",
      "dtype: int64\n",
      "7\n"
     ]
    }
   ],
   "source": [
    "import pandas as pd\n",
    "a=[1,7,2]\n",
    "val = pd.Series(a,index=[\"x\",\"y\",\"z\"])\n",
    "print(val)\n",
    "print(val[\"y\"])"
   ]
  },
  {
   "cell_type": "markdown",
   "id": "75c1b1eb-cc2d-4586-a74e-f85deb5dda71",
   "metadata": {},
   "source": [
    "# Creating Seies from dictinary"
   ]
  },
  {
   "cell_type": "code",
   "execution_count": 10,
   "id": "ef722573-6fee-4c88-80c6-6b4b5893897b",
   "metadata": {},
   "outputs": [
    {
     "name": "stdout",
     "output_type": "stream",
     "text": [
      "day1    420\n",
      "day2    360\n",
      "day3    390\n",
      "dtype: int64\n"
     ]
    }
   ],
   "source": [
    "import pandas as pd\n",
    "calories = {\"day1\":420, \"day2\":360, \"day3\":390}\n",
    "val = pd.Series(calories)\n",
    "print(val)"
   ]
  },
  {
   "cell_type": "markdown",
   "id": "3ada79c2-babe-4115-be9a-ff6536be2bee",
   "metadata": {},
   "source": [
    "# Select items in dictonary"
   ]
  },
  {
   "cell_type": "code",
   "execution_count": 13,
   "id": "bd34e5f2-4523-4a0a-be0c-2440a6a6c4aa",
   "metadata": {},
   "outputs": [
    {
     "name": "stdout",
     "output_type": "stream",
     "text": [
      "day1    420\n",
      "day2    360\n",
      "dtype: int64\n"
     ]
    }
   ],
   "source": [
    "import pandas as pd\n",
    "calories = {\"day1\":420,\"day2\":360,\"day3\":390}\n",
    "val = pd.Series(calories,index=[\"day1\",\"day2\"])\n",
    "print(val)"
   ]
  },
  {
   "cell_type": "markdown",
   "id": "fdeeb873-2151-4012-a11c-b6a8e4a5966a",
   "metadata": {},
   "source": [
    "# DataFrame from two series"
   ]
  },
  {
   "cell_type": "code",
   "execution_count": 20,
   "id": "559ad02b-8326-479b-b065-2d521eb9cec7",
   "metadata": {
    "scrolled": true
   },
   "outputs": [
    {
     "name": "stdout",
     "output_type": "stream",
     "text": [
      "calories    420\n",
      "food        500\n",
      "Name: 0, dtype: int64\n",
      "500\n"
     ]
    },
    {
     "data": {
      "text/html": [
       "<div>\n",
       "<style scoped>\n",
       "    .dataframe tbody tr th:only-of-type {\n",
       "        vertical-align: middle;\n",
       "    }\n",
       "\n",
       "    .dataframe tbody tr th {\n",
       "        vertical-align: top;\n",
       "    }\n",
       "\n",
       "    .dataframe thead th {\n",
       "        text-align: right;\n",
       "    }\n",
       "</style>\n",
       "<table border=\"1\" class=\"dataframe\">\n",
       "  <thead>\n",
       "    <tr style=\"text-align: right;\">\n",
       "      <th></th>\n",
       "      <th>calories</th>\n",
       "      <th>food</th>\n",
       "    </tr>\n",
       "  </thead>\n",
       "  <tbody>\n",
       "    <tr>\n",
       "      <th>0</th>\n",
       "      <td>420</td>\n",
       "      <td>500</td>\n",
       "    </tr>\n",
       "    <tr>\n",
       "      <th>2</th>\n",
       "      <td>390</td>\n",
       "      <td>60</td>\n",
       "    </tr>\n",
       "  </tbody>\n",
       "</table>\n",
       "</div>"
      ],
      "text/plain": [
       "   calories  food\n",
       "0       420   500\n",
       "2       390    60"
      ]
     },
     "metadata": {},
     "output_type": "display_data"
    },
    {
     "data": {
      "text/html": [
       "<div>\n",
       "<style scoped>\n",
       "    .dataframe tbody tr th:only-of-type {\n",
       "        vertical-align: middle;\n",
       "    }\n",
       "\n",
       "    .dataframe tbody tr th {\n",
       "        vertical-align: top;\n",
       "    }\n",
       "\n",
       "    .dataframe thead th {\n",
       "        text-align: right;\n",
       "    }\n",
       "</style>\n",
       "<table border=\"1\" class=\"dataframe\">\n",
       "  <thead>\n",
       "    <tr style=\"text-align: right;\">\n",
       "      <th></th>\n",
       "      <th>calories</th>\n",
       "    </tr>\n",
       "  </thead>\n",
       "  <tbody>\n",
       "    <tr>\n",
       "      <th>1</th>\n",
       "      <td>380</td>\n",
       "    </tr>\n",
       "  </tbody>\n",
       "</table>\n",
       "</div>"
      ],
      "text/plain": [
       "   calories\n",
       "1       380"
      ]
     },
     "metadata": {},
     "output_type": "display_data"
    }
   ],
   "source": [
    "import pandas as pd\n",
    "data = { \"calories\" : [420 , 380 , 390 ] ,\n",
    "        \"food\" : [500 , 40 , 60 ] }\n",
    "df = pd.DataFrame(data)\n",
    "print(df.loc[0])\n",
    "print(df.loc[0,\"food\"])\n",
    "display(df.iloc[[0,2]])\n",
    "display(df.iloc[1:2 , 0 : 1])"
   ]
  },
  {
   "cell_type": "markdown",
   "id": "bfeef1b4-ff6b-4aaf-9e2e-dafc1855926d",
   "metadata": {},
   "source": [
    "# Sepal length using IRIS dataset"
   ]
  },
  {
   "cell_type": "code",
   "execution_count": 43,
   "id": "602f6a7b-9d3a-436f-a51c-8c472d9eddbf",
   "metadata": {},
   "outputs": [
    {
     "data": {
      "image/png": "[encoded data removed]",
      "text/plain": [
       "<Figure size 640x480 with 1 Axes>"
      ]
     },
     "metadata": {},
     "output_type": "display_data"
    }
   ],
   "source": [
    "#import IRIS ->\n",
    "import pandas as pd\n",
    "from sklearn import datasets\n",
    "df = datasets.load_iris()\n",
    "names = ['sepal length', 'sepal width', 'petal length', 'petal width','target']\n",
    "iris = pd.DataFrame(data=df.data, columns=df.feature_names)\n",
    "iris['target']=df.target\n",
    "iris.head()\n",
    "#import boxplot\n",
    "import matplotlib.pyplot as plt\n",
    "import seaborn as sns\n",
    "fig, ax = plt.subplots()\n",
    "ax.set_title('Boxplot')\n",
    "ax.set_xlabel('Species')\n",
    "ax.set_ylabel('Measure')\n",
    "sns.boxplot(iris)\n",
    "sns.boxplot(data=iris, x='target', y='sepal length (cm)')\n",
    "plt.show()"
   ]
  },
  {
   "cell_type": "markdown",
   "id": "1da8b28a-9ebd-48ae-ba3f-0a65acb0163a",
   "metadata": {},
   "source": [
    "# Simple bar graph plotting"
   ]
  },
  {
   "cell_type": "code",
   "execution_count": 50,
   "id": "d2c98e5d-61fe-4ae3-b2cf-30bf582d9ab0",
   "metadata": {},
   "outputs": [
    {
     "data": {
      "image/png": "[encoded data removed]",
      "text/plain": [
       "<Figure size 640x480 with 1 Axes>"
      ]
     },
     "metadata": {},
     "output_type": "display_data"
    }
   ],
   "source": [
    "import matplotlib.pyplot as plt\n",
    "fig = plt.figure()\n",
    "ax = fig.add_axes([0,0,1,1])\n",
    "section = ['div=A' , 'div=B' , 'div=c', 'div=d']\n",
    "students = [23,17,35,29]\n",
    "ax.bar(section,students)\n",
    "plt.show()"
   ]
  }
 ],
 "metadata": {
  "kernelspec": {
   "display_name": "Python 3 (ipykernel)",
   "language": "python",
   "name": "python3"
  },
  "language_info": {
   "codemirror_mode": {
    "name": "ipython",
    "version": 3
   },
   "file_extension": ".py",
   "mimetype": "text/x-python",
   "name": "python",
   "nbconvert_exporter": "python",
   "pygments_lexer": "ipython3",
   "version": "3.12.7"
  }
 },
 "nbformat": 4,
 "nbformat_minor": 5
}
