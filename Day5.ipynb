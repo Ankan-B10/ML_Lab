{
 "cells": [
  {
   "cell_type": "markdown",
   "id": "882e5997-c372-4cfa-90a6-6e8e12bae490",
   "metadata": {},
   "source": [
    "# KNN Algorithm"
   ]
  },
  {
   "cell_type": "code",
   "execution_count": 28,
   "id": "5bfd7335-48f8-4289-9e5f-16ee78c44817",
   "metadata": {},
   "outputs": [
    {
     "name": "stdout",
     "output_type": "stream",
     "text": [
      "      0   1  2          3\n",
      "0   150  51  0  20.000000\n",
      "1   158  51  0  14.422205\n",
      "2   158  53  0  11.661904\n",
      "3   158  55  0   8.944272\n",
      "4   159  56  0   7.211103\n",
      "5   160  57  0   5.656854\n",
      "6   160  58  0   4.242641\n",
      "7   160  58  0   4.242641\n",
      "8   162  52  1  13.038405\n",
      "9   163  53  1  12.083046\n",
      "10  165  53  1  13.341664\n",
      "11  167  55  1  13.038405\n",
      "12  168  65  1  12.649111\n",
      "13  169  67  1  15.297059\n",
      "14  169  68  1  16.124515\n",
      "15  170  68  1  17.262677\n",
      "16  170  69  1  18.110770\n",
      "     0   1  2         3\n",
      "6  160  58  0  4.242641\n",
      "7  160  58  0  4.242641\n",
      "5  160  57  0  5.656854\n",
      "4  159  56  0  7.211103\n",
      "3  158  55  0  8.944272\n",
      "6    0\n",
      "7    0\n",
      "5    0\n",
      "4    0\n",
      "3    0\n",
      "Name: 2, dtype: int64\n",
      "return class with majority\n",
      "0\n",
      "0\n",
      "0\n",
      "0\n",
      "0\n"
     ]
    }
   ],
   "source": [
    "from math import sqrt\n",
    "import pandas as pd\n",
    "def e_dist(r1, r2):\n",
    "    distance = 0.0\n",
    "    for i in range (len (r1)-1):\n",
    "        distance +=((r1[0]-r2[0])**2)+((r1[1]-r2[1])**2)\n",
    "    return distance**0.5\n",
    "dataset=[[150,51,0],[158,51,0],[158,53,0],[158,55,0],\n",
    "         [159,56,0],[160,57,0],[160,58,0],[160,58,0],\n",
    "         [162,52,1],[163,53,1],[165,53,1],[167,55,1],\n",
    "         [168,65,1],[169,67,1],[169,68,1],[170,68,1],\n",
    "         [170,69,1]]\n",
    "row0 = [160,61,0]\n",
    "dist = []\n",
    "for row in dataset:\n",
    "    distance = e_dist(row0, row)\n",
    "    dist.append(distance)\n",
    "df = pd.DataFrame(dataset)\n",
    "df[3]=dist\n",
    "print(df)\n",
    "df = df.sort_values(3)\n",
    "df1 = df.head()\n",
    "print (df1)\n",
    "df2 = df1[2]\n",
    "print (df2)\n",
    "print(\"return class with majority\")\n",
    "zero = 0\n",
    "one = 0\n",
    "for i in df2:\n",
    "    if i == 0:\n",
    "        zero += 1\n",
    "    else:\n",
    "        one += 1\n",
    "    if one > zero:\n",
    "        print(\"1\")\n",
    "    else:\n",
    "        print(\"0\")"
   ]
  }
 ],
 "metadata": {
  "kernelspec": {
   "display_name": "Python 3 (ipykernel)",
   "language": "python",
   "name": "python3"
  },
  "language_info": {
   "codemirror_mode": {
    "name": "ipython",
    "version": 3
   },
   "file_extension": ".py",
   "mimetype": "text/x-python",
   "name": "python",
   "nbconvert_exporter": "python",
   "pygments_lexer": "ipython3",
   "version": "3.12.7"
  }
 },
 "nbformat": 4,
 "nbformat_minor": 5
}
